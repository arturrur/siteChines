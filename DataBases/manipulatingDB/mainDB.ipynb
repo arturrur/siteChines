{
 "cells": [
  {
   "cell_type": "markdown",
   "metadata": {},
   "source": [
    "#### Rodar para adicionar o pinyin e pinyinEX de novos caracteres no mainDB"
   ]
  },
  {
   "cell_type": "markdown",
   "metadata": {},
   "source": [
    "Necerrário pandas e pinyin_jyutping_sentence, utilizar pip para instalar ambos"
   ]
  },
  {
   "cell_type": "code",
   "execution_count": 60,
   "metadata": {},
   "outputs": [
    {
     "name": "stdout",
     "output_type": "stream",
     "text": [
      "   index character   pinyin pinyinNumbers  classification  description origin\n",
      "0      0         爱       ài           ai4             NaN          NaN  HSK 1\n",
      "1      1         八       bā           ba1             NaN          NaN  HSK 1\n",
      "2      2        爸爸     bàba       ba4 ba5             NaN          NaN  HSK 1\n",
      "3      3        杯子    bēizi      bei1 zi5             NaN          NaN  HSK 1\n",
      "4      4        北京  běijīng    Bei3 jing1             NaN          NaN  HSK 1\n"
     ]
    }
   ],
   "source": [
    "import pandas as pd\n",
    "import pinyin_jyutping_sentence as piny\n",
    "df = pd.read_csv('../mainDB.csv')\n",
    "print(df)"
   ]
  },
  {
   "cell_type": "markdown",
   "metadata": {},
   "source": [
    "Criando a segunda coluna, pegando o pinyin padrão das caracteres chineses"
   ]
  },
  {
   "cell_type": "code",
   "execution_count": 61,
   "metadata": {},
   "outputs": [
    {
     "name": "stdout",
     "output_type": "stream",
     "text": [
      "   index character   pinyin pinyinNumbers  classification  description origin\n",
      "0      0         爱       ài           ai4             NaN          NaN  HSK 1\n",
      "1      1         八       bā           ba1             NaN          NaN  HSK 1\n",
      "2      2        爸爸     bàba       ba4 ba5             NaN          NaN  HSK 1\n",
      "3      3        杯子    bēizi      bei1 zi5             NaN          NaN  HSK 1\n",
      "4      4        北京  běijīng    Bei3 jing1             NaN          NaN  HSK 1\n"
     ]
    }
   ],
   "source": [
    "df['pinyin'] = df['character'].apply(piny.pinyin)\n",
    "print(df)"
   ]
  },
  {
   "cell_type": "markdown",
   "metadata": {},
   "source": [
    "Criando a terceira coluna, pegando o pinyin numérico e com espaços, para ser mais fácil de comparar com input dos usuários"
   ]
  },
  {
   "cell_type": "code",
   "execution_count": 62,
   "metadata": {},
   "outputs": [
    {
     "name": "stdout",
     "output_type": "stream",
     "text": [
      "   index character   pinyin pinyinNumbers  classification  description origin\n",
      "0      0         爱       ài           ai4             NaN          NaN  HSK 1\n",
      "1      1         八       bā           ba1             NaN          NaN  HSK 1\n",
      "2      2        爸爸     bàba       ba4 ba5             NaN          NaN  HSK 1\n",
      "3      3        杯子    bēizi      bei1 zi5             NaN          NaN  HSK 1\n",
      "4      4        北京  běijīng    Bei3 jing1             NaN          NaN  HSK 1\n"
     ]
    }
   ],
   "source": [
    "df['pinyinNumbers'] =  df['character'].apply(lambda x: piny.pinyin(x, tone_numbers=True, spaces=True))\n",
    "print(df)"
   ]
  },
  {
   "cell_type": "markdown",
   "metadata": {},
   "source": [
    "Criando o indíce do DB a partir do index padrão, mais fácil pra gente"
   ]
  },
  {
   "cell_type": "code",
   "execution_count": 66,
   "metadata": {},
   "outputs": [
    {
     "name": "stdout",
     "output_type": "stream",
     "text": [
      "   index character   pinyin pinyinNumbers  classification  description origin\n",
      "0      0         爱       ài           ai4             NaN          NaN  HSK 1\n",
      "1      1         八       bā           ba1             NaN          NaN  HSK 1\n",
      "2      2        爸爸     bàba       ba4 ba5             NaN          NaN  HSK 1\n",
      "3      3        杯子    bēizi      bei1 zi5             NaN          NaN  HSK 1\n",
      "4      4        北京  běijīng    Bei3 jing1             NaN          NaN  HSK 1\n"
     ]
    }
   ],
   "source": [
    "df['index'] = df.index\n",
    "print(df)"
   ]
  },
  {
   "cell_type": "markdown",
   "metadata": {},
   "source": [
    "Gravando o novo DB no DB antigo, cuidado kkkkkkk\n",
    "salvando com o parâmetro index=False, se não vai ficar adicionando uma coluna a mais sempre que rodar"
   ]
  },
  {
   "cell_type": "code",
   "execution_count": 64,
   "metadata": {},
   "outputs": [],
   "source": [
    "df.to_csv('../mainDB.csv', index=False)"
   ]
  }
 ],
 "metadata": {
  "kernelspec": {
   "display_name": "Python 3",
   "language": "python",
   "name": "python3"
  },
  "language_info": {
   "codemirror_mode": {
    "name": "ipython",
    "version": 3
   },
   "file_extension": ".py",
   "mimetype": "text/x-python",
   "name": "python",
   "nbconvert_exporter": "python",
   "pygments_lexer": "ipython3",
   "version": "3.11.9"
  }
 },
 "nbformat": 4,
 "nbformat_minor": 2
}
